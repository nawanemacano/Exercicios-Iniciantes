{
  "nbformat": 4,
  "nbformat_minor": 0,
  "metadata": {
    "colab": {
      "provenance": [],
      "authorship_tag": "ABX9TyMdIQDU0StAsqVMkoIe3kch",
      "include_colab_link": true
    },
    "kernelspec": {
      "name": "python3",
      "display_name": "Python 3"
    },
    "language_info": {
      "name": "python"
    }
  },
  "cells": [
    {
      "cell_type": "markdown",
      "metadata": {
        "id": "view-in-github",
        "colab_type": "text"
      },
      "source": [
        "<a href=\"https://colab.research.google.com/github/nawanemacano/Exercicios-Iniciantes/blob/main/Exercicios_Python_Iniciante.ipynb\" target=\"_parent\"><img src=\"https://colab.research.google.com/assets/colab-badge.svg\" alt=\"Open In Colab\"/></a>"
      ]
    },
    {
      "cell_type": "markdown",
      "metadata": {
        "id": "3QRnB_zk_0ON"
      },
      "source": [
        "## Exercícios Operadores Matemáticos\n",
        "\n",
        "Agora que vimos como utilizar os operadores, vamos resolver algumas equações.\n",
        "<center><img alt=\"Math\" width=\"35%\" src=\"https://image.freepik.com/free-vector/people-budgeting-order-plan-personal-finance_53876-64613.jpg\"></center>\n"
      ]
    },
    {
      "cell_type": "markdown",
      "metadata": {
        "id": "xUIKEVo2A73V"
      },
      "source": [
        "#### Exercício 1\n",
        "\n",
        "Calcule:\n",
        "$$\n",
        "\\begin{aligned}\n",
        "x & = 15 - 5 + 3^2 \\\\\n",
        "\\end{aligned}\n",
        "$$"
      ]
    },
    {
      "cell_type": "code",
      "metadata": {
        "id": "EZ8rnqrK1K0L"
      },
      "source": [
        "# resposta\n"
      ],
      "execution_count": null,
      "outputs": []
    },
    {
      "cell_type": "code",
      "metadata": {
        "id": "L_tEZCEYBlGd",
        "cellView": "form"
      },
      "source": [
        "#@title Solução\n",
        "15 - 5 + (3**2)"
      ],
      "execution_count": null,
      "outputs": []
    },
    {
      "cell_type": "markdown",
      "metadata": {
        "id": "KKtUUwTRCPD0"
      },
      "source": [
        "#### Exercício 2\n",
        "\n",
        "Calcule:\n",
        "\n",
        "$$\n",
        "\\begin{aligned}\n",
        "x & = 20 + 5  /  7 * 9 \\\\\n",
        "\\end{aligned}\n",
        "$$"
      ]
    },
    {
      "cell_type": "code",
      "metadata": {
        "id": "3Mw8i0clBtN0"
      },
      "source": [
        "# resposta\n"
      ],
      "execution_count": null,
      "outputs": []
    },
    {
      "cell_type": "code",
      "metadata": {
        "id": "hvkeoY0pByiP",
        "colab": {
          "base_uri": "https://localhost:8080/"
        },
        "outputId": "d22cf1c0-bab1-4315-b1e0-eb16ef1738b3"
      },
      "source": [
        "#@title Solução\n",
        "20+5/7 * 9"
      ],
      "execution_count": null,
      "outputs": [
        {
          "output_type": "execute_result",
          "data": {
            "text/plain": [
              "26.42857142857143"
            ]
          },
          "metadata": {},
          "execution_count": 1
        }
      ]
    },
    {
      "cell_type": "markdown",
      "metadata": {
        "id": "P5tfTUo9DIsQ"
      },
      "source": [
        "#### Exercício 3\n",
        "\n",
        "Calcule:\n",
        "\n",
        "$$\n",
        "\\begin{aligned}\n",
        "x & = 17 * 3  - 4^2  / 3 \\\\\n",
        "\\end{aligned}\n",
        "$$"
      ]
    },
    {
      "cell_type": "code",
      "metadata": {
        "id": "vNwc8aLMD1u3"
      },
      "source": [
        "# resposta\n"
      ],
      "execution_count": null,
      "outputs": []
    },
    {
      "cell_type": "code",
      "metadata": {
        "id": "F_fhVYzHC25y",
        "cellView": "form"
      },
      "source": [
        "#@title Solução\n",
        "(17*3) - (4**2 /3)"
      ],
      "execution_count": null,
      "outputs": []
    },
    {
      "cell_type": "code",
      "execution_count": null,
      "metadata": {
        "id": "hYk5txC59swn"
      },
      "outputs": [],
      "source": []
    },
    {
      "cell_type": "markdown",
      "metadata": {
        "id": "S-6iuoT3aPsx"
      },
      "source": [
        "## Exercícios Tipos de Variaveis\n",
        "\n",
        "Agora, vamos testar nosso conhecimento sobre as variáveis.\n",
        "\n",
        "<center><img alt=\"Tipos\" width=\"40%\" src=\"https://image.freepik.com/free-photo/notebook-calculator-rubiks-cube-chalkboard_23-2147849672.jpg\"></center>"
      ]
    },
    {
      "cell_type": "markdown",
      "metadata": {
        "id": "lExb7DuqaaJK"
      },
      "source": [
        "#### Exercício 1\n",
        "\n",
        "Crie uma variável do tipo `integer`, chamada x, e associe a ela sua idade."
      ]
    },
    {
      "cell_type": "code",
      "metadata": {
        "id": "IXoyJX5jZrKK"
      },
      "source": [
        "# resposta\n"
      ],
      "execution_count": null,
      "outputs": []
    },
    {
      "cell_type": "code",
      "metadata": {
        "id": "HqyCczwUahSH",
        "cellView": "form"
      },
      "source": [
        "#@title Solução\n",
        "x = 36"
      ],
      "execution_count": null,
      "outputs": []
    },
    {
      "cell_type": "markdown",
      "metadata": {
        "id": "RpC7_U1MavAS"
      },
      "source": [
        "#### Exercício 2\n",
        "\n",
        "Crie uma variável do tipo `float`, chamada y, e associe a ela o preço de uma barra de chocolate."
      ]
    },
    {
      "cell_type": "code",
      "metadata": {
        "id": "7w2Ldng8ar3p"
      },
      "source": [
        "# resposta\n"
      ],
      "execution_count": null,
      "outputs": []
    },
    {
      "cell_type": "code",
      "metadata": {
        "id": "3tk87CuPbJgu",
        "cellView": "form"
      },
      "source": [
        "#@title Solução\n",
        "y = 2.99"
      ],
      "execution_count": null,
      "outputs": []
    },
    {
      "cell_type": "markdown",
      "metadata": {
        "id": "sNmW-QU5bPpc"
      },
      "source": [
        "#### Exercício 3\n",
        "Crie uma variável do tipo `string`, chamada `nome` e associe a ela o seu nome."
      ]
    },
    {
      "cell_type": "code",
      "metadata": {
        "id": "qK_VecttbOVF"
      },
      "source": [
        "# resposta\n"
      ],
      "execution_count": null,
      "outputs": []
    },
    {
      "cell_type": "code",
      "metadata": {
        "id": "k95BQlXwbX2T",
        "cellView": "form"
      },
      "source": [
        "#@title Solução\n",
        "nome = \"Sigmoidal \""
      ],
      "execution_count": null,
      "outputs": []
    },
    {
      "cell_type": "markdown",
      "metadata": {
        "id": "sUWYLpJIcInn"
      },
      "source": [
        "#### Exercício 4\n",
        "\n",
        "Verifique o tipo das variáveis `x`, `y`, `nome`.\n",
        "\n",
        "Dica: A função print vai ajudar a fazer tudo em uma célula só."
      ]
    },
    {
      "cell_type": "code",
      "metadata": {
        "id": "_sEEXdzpbi5o"
      },
      "source": [
        "# resultado\n"
      ],
      "execution_count": null,
      "outputs": []
    },
    {
      "cell_type": "code",
      "metadata": {
        "id": "PWDlgK9Jcz5J",
        "cellView": "form"
      },
      "source": [
        "#@title Solução\n",
        "print('x:', type(x))\n",
        "print('y:', type(y))\n",
        "print('nome:', type(nome))"
      ],
      "execution_count": null,
      "outputs": []
    },
    {
      "cell_type": "markdown",
      "metadata": {
        "id": "B6U739zPdHLN"
      },
      "source": [
        "#### Exercício 5\n",
        "\n",
        "Crie uma variável que seja que calcule o ano em que você nasceu, utilizando operadores matemáticos e sua variável `x`."
      ]
    },
    {
      "cell_type": "code",
      "metadata": {
        "id": "Rt7ssCKGc754"
      },
      "source": [
        "# resultado\n"
      ],
      "execution_count": null,
      "outputs": []
    },
    {
      "cell_type": "code",
      "metadata": {
        "id": "2lG8xjrCdXyS",
        "cellView": "form"
      },
      "source": [
        "#@title Solução\n",
        "x = 2020 - x\n",
        "print(x)"
      ],
      "execution_count": null,
      "outputs": []
    },
    {
      "cell_type": "markdown",
      "metadata": {
        "id": "cpjLvuX0do0e"
      },
      "source": [
        "### Exercício 6\n",
        "\n",
        "Crie uma variável para o preço de 3 barras de chocolate, usando a variável `y`."
      ]
    },
    {
      "cell_type": "code",
      "metadata": {
        "id": "I2Qa6YsXdg-n"
      },
      "source": [
        "# resultado\n"
      ],
      "execution_count": null,
      "outputs": []
    },
    {
      "cell_type": "code",
      "metadata": {
        "id": "ModGVCTydxRv",
        "cellView": "form"
      },
      "source": [
        "#@title Solução\n",
        "y = y * 3\n",
        "print(y)"
      ],
      "execution_count": null,
      "outputs": []
    },
    {
      "cell_type": "markdown",
      "metadata": {
        "id": "aZs_vY3Cd4fK"
      },
      "source": [
        "### Exercício 7\n",
        "Crie uma variável que contenha o seu nome 10 vezes, utilizando a variável `nome`."
      ]
    },
    {
      "cell_type": "code",
      "metadata": {
        "id": "q84wpuDzd1XL"
      },
      "source": [
        "# resultado\n"
      ],
      "execution_count": null,
      "outputs": []
    },
    {
      "cell_type": "code",
      "metadata": {
        "id": "rIniv6jMeCrV",
        "cellView": "form"
      },
      "source": [
        "#@title Solução\n",
        "nome = 'Carlos'\n",
        "nome = nome * 10\n",
        "print(nome)"
      ],
      "execution_count": null,
      "outputs": []
    },
    {
      "cell_type": "markdown",
      "metadata": {
        "id": "9Hvlr-1HcquF"
      },
      "source": [
        "## Exercícios Numeros: Int vs Float\n",
        "\n",
        "Agora que vimos um pouco mais sobre inteiros e floats, vamos praticar um pouco.\n",
        "\n",
        "<center><img width=\"40%\" src=\"https://image.freepik.com/free-photo/business-women-signature-document_1388-90.jpg\n",
        "\"></center>"
      ]
    },
    {
      "cell_type": "markdown",
      "metadata": {
        "id": "qGH4BlbEe9Ut"
      },
      "source": [
        "#### Exercício 1\n",
        "Transforme o resultado a divisão de inteiros em inteiro.\n",
        "\n",
        "$$\n",
        "\\begin{aligned}\n",
        "x & = 25 / 5\n",
        "\\end{aligned}\n",
        "$$"
      ]
    },
    {
      "cell_type": "code",
      "metadata": {
        "id": "mCopQuIOcSoC"
      },
      "source": [
        "# resposta\n"
      ],
      "execution_count": null,
      "outputs": []
    },
    {
      "cell_type": "code",
      "metadata": {
        "id": "DcQqM81MhT60",
        "cellView": "form"
      },
      "source": [
        "#@title Solução\n",
        "x = 25/5\n",
        "print('Resultado como float: ', x)\n",
        "print('Tipo: ', type(x))\n",
        "#transformando em int\n",
        "x = int(x)\n",
        "print('Resultado como integer: ', x)\n",
        "print('Tipo: ', type(x))"
      ],
      "execution_count": null,
      "outputs": []
    },
    {
      "cell_type": "markdown",
      "metadata": {
        "id": "Rl3RIqLkic6f"
      },
      "source": [
        "#### Exercício 2\n",
        "Use a função `type()` para descobrir os tipos das seguintes variáveis:"
      ]
    },
    {
      "cell_type": "code",
      "metadata": {
        "id": "lkgNPyX3iqM4"
      },
      "source": [
        "# variáveis\n",
        "x = 33\n",
        "y = 33/3\n",
        "z = 33.5"
      ],
      "execution_count": null,
      "outputs": []
    },
    {
      "cell_type": "code",
      "metadata": {
        "id": "yCWRX2fIlEfN"
      },
      "source": [
        "# resposta\n"
      ],
      "execution_count": null,
      "outputs": []
    },
    {
      "cell_type": "code",
      "metadata": {
        "id": "ddDmJbpth06P",
        "cellView": "form"
      },
      "source": [
        "#@title Solução\n",
        "print(type(x))\n",
        "print(type(y))\n",
        "print(type(z))"
      ],
      "execution_count": null,
      "outputs": []
    },
    {
      "cell_type": "markdown",
      "metadata": {
        "id": "DN10x95sk5d9"
      },
      "source": [
        "#### Exercício 3\n",
        "Usando as variáveis do exercício anterior, transforme todas elas em `int`."
      ]
    },
    {
      "cell_type": "code",
      "metadata": {
        "id": "4QQUchCTlYVG"
      },
      "source": [
        "# resposta\n"
      ],
      "execution_count": null,
      "outputs": []
    },
    {
      "cell_type": "code",
      "metadata": {
        "id": "eeq1gh-Mkx8V",
        "cellView": "form"
      },
      "source": [
        "#@title Solução\n",
        "x = int(x)\n",
        "y = int(y)\n",
        "z = int(z)\n",
        "\n",
        "# conferindo os tipos\n",
        "print(type(x))\n",
        "print(type(y))\n",
        "print(type(z))"
      ],
      "execution_count": null,
      "outputs": []
    },
    {
      "cell_type": "markdown",
      "metadata": {
        "id": "O-bubRqplXrU"
      },
      "source": [
        "#### Exercício 4\n",
        "Usando as variáveis do exercício anterior, transforme todas elas em `float`."
      ]
    },
    {
      "cell_type": "code",
      "metadata": {
        "id": "lkKomdl4lhKE"
      },
      "source": [
        "# resposta\n"
      ],
      "execution_count": null,
      "outputs": []
    },
    {
      "cell_type": "code",
      "metadata": {
        "id": "sfcdCbJBlDe8",
        "cellView": "form"
      },
      "source": [
        "#@title Solução\n",
        "x = float(x)\n",
        "y = float(y)\n",
        "z = float(z)\n",
        "\n",
        "# conferindo os tipos\n",
        "print(type(x))\n",
        "print(type(y))\n",
        "print(type(z))"
      ],
      "execution_count": null,
      "outputs": []
    },
    {
      "cell_type": "markdown",
      "metadata": {
        "id": "9g9KoroN8eG3"
      },
      "source": [
        "# Exercícios biblioteca OS\n",
        "\n",
        "Agora que já entendemos as funções básicas da biblioteca, vamos ver como usá-las na prática.\n",
        "\n",
        "<center><img width=\"50%\" src=\"https://image.freepik.com/free-photo/sport-outdoor_144627-38331.jpg\"></center>"
      ]
    },
    {
      "cell_type": "markdown",
      "metadata": {
        "id": "5wbikzKZ8kqC"
      },
      "source": [
        "### Exercício 1\n",
        "\n",
        "Importe a biblioteca OS e verifique:"
      ]
    },
    {
      "cell_type": "code",
      "metadata": {
        "id": "wsoJhPf98jhD"
      },
      "source": [
        "# a) em que diretório você está\n",
        "\n"
      ],
      "execution_count": null,
      "outputs": []
    },
    {
      "cell_type": "code",
      "metadata": {
        "id": "iAUt6hLgTSy8",
        "cellView": "form"
      },
      "source": [
        "#@title Solução\n",
        "import os\n",
        "os.getcwd()"
      ],
      "execution_count": null,
      "outputs": []
    },
    {
      "cell_type": "code",
      "metadata": {
        "id": "AB1GRnbc8sMr"
      },
      "source": [
        "# b) o que há dentro do diretório\n"
      ],
      "execution_count": null,
      "outputs": []
    },
    {
      "cell_type": "code",
      "metadata": {
        "id": "oMY6JOGzTbvd",
        "cellView": "form"
      },
      "source": [
        "#@title Solução\n",
        "os.listdir()"
      ],
      "execution_count": null,
      "outputs": []
    },
    {
      "cell_type": "markdown",
      "metadata": {
        "id": "HKNaYTdc8xn1"
      },
      "source": [
        "### Exercício 2\n",
        "\n",
        "Faça o que se pede na célula abaixo:"
      ]
    },
    {
      "cell_type": "code",
      "metadata": {
        "id": "j5-nZOWR834x"
      },
      "source": [
        "# a) crie um arquivo chamado aluno.txt e escreva nele o seu nome\n"
      ],
      "execution_count": null,
      "outputs": []
    },
    {
      "cell_type": "code",
      "metadata": {
        "id": "gLgl--x8TnmX",
        "cellView": "form"
      },
      "source": [
        "#@title Solução\n",
        "with open('aluno.txt', 'w') as aluno:\n",
        "  aluno.write('Rafael')"
      ],
      "execution_count": null,
      "outputs": []
    },
    {
      "cell_type": "code",
      "metadata": {
        "id": "8LCV7SBWdf69"
      },
      "source": [
        "# b) acrescente sua idade e profissão\n"
      ],
      "execution_count": null,
      "outputs": []
    },
    {
      "cell_type": "code",
      "metadata": {
        "id": "CWPiwuLXdiO5",
        "cellView": "form"
      },
      "source": [
        "#@title Solução\n",
        "with open('aluno.txt', 'a') as aluno:\n",
        "  aluno.write('\\n24 anos\\nCientista de Dados')"
      ],
      "execution_count": null,
      "outputs": []
    },
    {
      "cell_type": "code",
      "metadata": {
        "id": "-Lb3z8vPdvN-"
      },
      "source": [
        "# c) leia as informações contidas no arquivo\n",
        "\n"
      ],
      "execution_count": null,
      "outputs": []
    },
    {
      "cell_type": "code",
      "metadata": {
        "id": "oZDbgSoGd3N9",
        "cellView": "form"
      },
      "source": [
        "#@title Solução\n",
        "with open('aluno.txt', 'r') as aluno:\n",
        "  print(aluno.read())"
      ],
      "execution_count": null,
      "outputs": []
    },
    {
      "cell_type": "markdown",
      "metadata": {
        "id": "ihW0S9ti-fzg"
      },
      "source": [
        "### Exercício 3\n",
        "\n",
        "Renomeie o arquivo para sigmoidal.txt."
      ]
    },
    {
      "cell_type": "code",
      "metadata": {
        "id": "cPXKwKCv9Ah6"
      },
      "source": [
        "# renomeie o arquivo\n"
      ],
      "execution_count": null,
      "outputs": []
    },
    {
      "cell_type": "code",
      "metadata": {
        "id": "r5dmdVK4UB1F",
        "cellView": "form"
      },
      "source": [
        "#@title Solução\n",
        "# carregando o arquivo a ser renomeado\n",
        "aluno = \"aluno.txt\"\n",
        "\n",
        "# renomeando o arquivo\n",
        "os.rename(aluno,'sigmoidal.txt')\n",
        "\n",
        "# verificando que o nome do arquivo foi mudado\n",
        "os.listdir()\n"
      ],
      "execution_count": null,
      "outputs": []
    },
    {
      "cell_type": "markdown",
      "metadata": {
        "id": "E66jiCRj0fNr"
      },
      "source": [
        "## Exercícios\n",
        "\n",
        "Hora de praticar!\n",
        "\n",
        "<center><img width=\"50%\" src=\"https://image.freepik.com/free-photo/rear-view-programmer-working-all-night-long_1098-18697.jpg\n",
        "\"></center>"
      ]
    },
    {
      "cell_type": "markdown",
      "metadata": {
        "id": "FLz4DeLdS1mI"
      },
      "source": [
        "### Exercício 1\n",
        "Verifique se a expressão $2^4$ é igual a $16$:"
      ]
    },
    {
      "cell_type": "code",
      "metadata": {
        "id": "v42fI7p10rN2"
      },
      "source": [
        "# resposta\n"
      ],
      "execution_count": null,
      "outputs": []
    },
    {
      "cell_type": "code",
      "metadata": {
        "cellView": "form",
        "id": "68HEWdStouV7"
      },
      "source": [
        "#@title Solução\n",
        "2**4 == 16"
      ],
      "execution_count": null,
      "outputs": []
    },
    {
      "cell_type": "markdown",
      "metadata": {
        "id": "Ibl-Oekp0sIu"
      },
      "source": [
        "### Exercício 2\n",
        "Abaixo estão as notas de 3 provas de um estudante de ensino médio. Usando Operadores Lógicos e Operadores Relacionais, verifique se o mesmo foi aprovado no semestre. A condição para aprovação é ter a média das notas maior ou igual a 7."
      ]
    },
    {
      "cell_type": "code",
      "metadata": {
        "id": "5Zk-Jfh61I7T"
      },
      "source": [
        "nota_matematica = 7.0\n",
        "nota_ingles = 8.2\n",
        "nota_historia = 6.95\n",
        "\n",
        "# expressão para ver se o aluno foi aprovado\n"
      ],
      "execution_count": null,
      "outputs": []
    },
    {
      "cell_type": "code",
      "metadata": {
        "id": "J_NgRQzuTpqU",
        "cellView": "form"
      },
      "source": [
        "#@title Solução\n",
        "print(nota_matematica >= 7)\n",
        "print(nota_ingles >= 7)\n",
        "print(nota_historia >= 7)\n",
        "\n",
        "# verificar média geral\n",
        "print((nota_matematica + nota_ingles + nota_historia) / 3 >= 7)"
      ],
      "execution_count": null,
      "outputs": []
    },
    {
      "cell_type": "markdown",
      "metadata": {
        "id": "8rDwbKBIX43j"
      },
      "source": [
        "### Exercício 3\n",
        "Usando operadores lógicos e matemáticos, verifique se João pode tirar carteira de motorista, sabendo que a idade mínima para isso é 18 anos de idade, e que custa R$1.000,00"
      ]
    },
    {
      "cell_type": "code",
      "metadata": {
        "id": "n7EIGnWOUBtc"
      },
      "source": [
        "# dados do João\n",
        "idade = 19\n",
        "saldo = 1500"
      ],
      "execution_count": null,
      "outputs": []
    },
    {
      "cell_type": "code",
      "metadata": {
        "id": "8umykNt1YZHT"
      },
      "source": [
        "# resposta\n"
      ],
      "execution_count": null,
      "outputs": []
    },
    {
      "cell_type": "code",
      "metadata": {
        "id": "YtEQ9n8qYa0t",
        "cellView": "form"
      },
      "source": [
        "#@title Solução\n",
        "idade >= 18 and saldo >= 1000"
      ],
      "execution_count": null,
      "outputs": []
    }
  ]
}